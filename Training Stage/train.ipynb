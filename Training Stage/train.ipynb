{
 "cells": [
  {
   "cell_type": "code",
   "execution_count": 6,
   "metadata": {},
   "outputs": [],
   "source": [
    "import numpy as np\n",
    "import h5py\n",
    "import matplotlib.pyplot as plt\n",
    "from model import unet\n",
    "from time import time\n",
    "% matplotlib inline\n",
    "from keras.preprocessing.image import ImageDataGenerator"
   ]
  },
  {
   "cell_type": "code",
   "execution_count": 2,
   "metadata": {},
   "outputs": [],
   "source": [
    "# load data\n",
    "def loadData(dataname = 'dataset.h5'):\n",
    "    dataset = h5py.File(dataname, 'r')\n",
    "    X_pre = dataset['X_pre'][0:1000]\n",
    "    Y_pre = dataset['Y_pre'][0:1000]\n",
    "    dataset.close()\n",
    "    X_pre = X_pre.astype('float32')\n",
    "    X_pre = X_pre / 255.0\n",
    "    Y_pre = Y_pre.astype('float32')\n",
    "    return X_pre, Y_pre"
   ]
  },
  {
   "cell_type": "code",
   "execution_count": 3,
   "metadata": {},
   "outputs": [
    {
     "name": "stdout",
     "output_type": "stream",
     "text": [
      "(1000, 800, 800, 3) (1000, 800, 800, 3)\n"
     ]
    }
   ],
   "source": [
    "X_train, Y_train = loadData()"
   ]
  },
  {
   "cell_type": "code",
   "execution_count": 5,
   "metadata": {},
   "outputs": [
    {
     "name": "stdout",
     "output_type": "stream",
     "text": [
      "(1000, 800, 800, 3) , (1000, 800, 800, 3)\n"
     ]
    }
   ],
   "source": [
    "print (X_train.shape, \",\",Y_train.shape)"
   ]
  },
  {
   "cell_type": "code",
   "execution_count": null,
   "metadata": {},
   "outputs": [],
   "source": []
  }
 ],
 "metadata": {
  "kernelspec": {
   "display_name": "Python 3",
   "language": "python",
   "name": "python3"
  },
  "language_info": {
   "codemirror_mode": {
    "name": "ipython",
    "version": 3
   },
   "file_extension": ".py",
   "mimetype": "text/x-python",
   "name": "python",
   "nbconvert_exporter": "python",
   "pygments_lexer": "ipython3",
   "version": "3.6.7"
  }
 },
 "nbformat": 4,
 "nbformat_minor": 2
}
